{
 "cells": [
  {
   "cell_type": "code",
   "execution_count": 1,
   "id": "5f6bb7a3",
   "metadata": {},
   "outputs": [],
   "source": [
    "from pyspark.sql import SparkSession\n",
    "spark=SparkSession.builder.appName('Practise').getOrCreate()"
   ]
  },
  {
   "cell_type": "code",
   "execution_count": 2,
   "id": "6c13afa4",
   "metadata": {},
   "outputs": [],
   "source": [
    "df_pyspark=spark.read.csv('test3.csv',header=True,inferSchema=True)"
   ]
  },
  {
   "cell_type": "code",
   "execution_count": 3,
   "id": "49021bd3",
   "metadata": {},
   "outputs": [
    {
     "name": "stdout",
     "output_type": "stream",
     "text": [
      "root\n",
      " |-- Name: string (nullable = true)\n",
      " |-- Age: integer (nullable = true)\n",
      " |-- Experience: integer (nullable = true)\n",
      " |-- Salary: integer (nullable = true)\n",
      "\n"
     ]
    }
   ],
   "source": [
    "df_pyspark.printSchema()"
   ]
  },
  {
   "cell_type": "code",
   "execution_count": 4,
   "id": "7fb22a13",
   "metadata": {},
   "outputs": [
    {
     "name": "stdout",
     "output_type": "stream",
     "text": [
      "+--------+----+----------+------+\n",
      "|    Name| Age|Experience|Salary|\n",
      "+--------+----+----------+------+\n",
      "|   Krush|  19|        17| 88290|\n",
      "|   Kimar|  23|        18| 94845|\n",
      "|    null|  10|        16|  null|\n",
      "|Dagrisab|  56|      null| 60268|\n",
      "|  Sanjay|  46|        15| 52381|\n",
      "|   Mintu|null|        17| 93836|\n",
      "|   Vijay|  17|        18|  null|\n",
      "|    null|  32|      null| 71205|\n",
      "|Amjatcan|null|        20| 63980|\n",
      "|  Rajish|  25|        20|  null|\n",
      "+--------+----+----------+------+\n",
      "\n"
     ]
    }
   ],
   "source": [
    "df_pyspark.show()"
   ]
  },
  {
   "cell_type": "code",
   "execution_count": 5,
   "id": "8b65ea79",
   "metadata": {},
   "outputs": [
    {
     "name": "stdout",
     "output_type": "stream",
     "text": [
      "+----+----------+------+\n",
      "| Age|Experience|Salary|\n",
      "+----+----------+------+\n",
      "|  19|        17| 88290|\n",
      "|  23|        18| 94845|\n",
      "|  10|        16|  null|\n",
      "|  56|      null| 60268|\n",
      "|  46|        15| 52381|\n",
      "|null|        17| 93836|\n",
      "|  17|        18|  null|\n",
      "|  32|      null| 71205|\n",
      "|null|        20| 63980|\n",
      "|  25|        20|  null|\n",
      "+----+----------+------+\n",
      "\n"
     ]
    }
   ],
   "source": [
    "df_pyspark.drop('Name').show()"
   ]
  },
  {
   "cell_type": "code",
   "execution_count": 6,
   "id": "90b3232d",
   "metadata": {},
   "outputs": [
    {
     "name": "stdout",
     "output_type": "stream",
     "text": [
      "+--------+----+----------+------+\n",
      "|    Name| Age|Experience|Salary|\n",
      "+--------+----+----------+------+\n",
      "|   Krush|  19|        17| 88290|\n",
      "|   Kimar|  23|        18| 94845|\n",
      "|    null|  10|        16|  null|\n",
      "|Dagrisab|  56|      null| 60268|\n",
      "|  Sanjay|  46|        15| 52381|\n",
      "|   Mintu|null|        17| 93836|\n",
      "|   Vijay|  17|        18|  null|\n",
      "|    null|  32|      null| 71205|\n",
      "|Amjatcan|null|        20| 63980|\n",
      "|  Rajish|  25|        20|  null|\n",
      "+--------+----+----------+------+\n",
      "\n"
     ]
    }
   ],
   "source": [
    "df_pyspark.show()"
   ]
  },
  {
   "cell_type": "code",
   "execution_count": 7,
   "id": "5cc723ea",
   "metadata": {},
   "outputs": [
    {
     "name": "stdout",
     "output_type": "stream",
     "text": [
      "+------+---+----------+------+\n",
      "|  Name|Age|Experience|Salary|\n",
      "+------+---+----------+------+\n",
      "| Krush| 19|        17| 88290|\n",
      "| Kimar| 23|        18| 94845|\n",
      "|Sanjay| 46|        15| 52381|\n",
      "+------+---+----------+------+\n",
      "\n"
     ]
    }
   ],
   "source": [
    "df_pyspark.na.drop().show()"
   ]
  },
  {
   "cell_type": "code",
   "execution_count": 8,
   "id": "40605e9b",
   "metadata": {},
   "outputs": [
    {
     "name": "stdout",
     "output_type": "stream",
     "text": [
      "+------+---+----------+------+\n",
      "|  Name|Age|Experience|Salary|\n",
      "+------+---+----------+------+\n",
      "| Krush| 19|        17| 88290|\n",
      "| Kimar| 23|        18| 94845|\n",
      "|Sanjay| 46|        15| 52381|\n",
      "+------+---+----------+------+\n",
      "\n"
     ]
    }
   ],
   "source": [
    "### any==how\n",
    "df_pyspark.na.drop(how=\"any\").show()"
   ]
  },
  {
   "cell_type": "code",
   "execution_count": 9,
   "id": "4755be2b",
   "metadata": {},
   "outputs": [
    {
     "name": "stdout",
     "output_type": "stream",
     "text": [
      "+--------+----+----------+------+\n",
      "|    Name| Age|Experience|Salary|\n",
      "+--------+----+----------+------+\n",
      "|   Krush|  19|        17| 88290|\n",
      "|   Kimar|  23|        18| 94845|\n",
      "|    null|  10|        16|  null|\n",
      "|Dagrisab|  56|      null| 60268|\n",
      "|  Sanjay|  46|        15| 52381|\n",
      "|   Mintu|null|        17| 93836|\n",
      "|   Vijay|  17|        18|  null|\n",
      "|    null|  32|      null| 71205|\n",
      "|Amjatcan|null|        20| 63980|\n",
      "|  Rajish|  25|        20|  null|\n",
      "+--------+----+----------+------+\n",
      "\n"
     ]
    }
   ],
   "source": [
    "df_pyspark.show()"
   ]
  },
  {
   "cell_type": "code",
   "execution_count": 10,
   "id": "553233d0",
   "metadata": {},
   "outputs": [
    {
     "name": "stdout",
     "output_type": "stream",
     "text": [
      "+--------+----+----------+------+\n",
      "|    Name| Age|Experience|Salary|\n",
      "+--------+----+----------+------+\n",
      "|   Krush|  19|        17| 88290|\n",
      "|   Kimar|  23|        18| 94845|\n",
      "|    null|  10|        16|  null|\n",
      "|Dagrisab|  56|      null| 60268|\n",
      "|  Sanjay|  46|        15| 52381|\n",
      "|   Mintu|null|        17| 93836|\n",
      "|   Vijay|  17|        18|  null|\n",
      "|    null|  32|      null| 71205|\n",
      "|Amjatcan|null|        20| 63980|\n",
      "|  Rajish|  25|        20|  null|\n",
      "+--------+----+----------+------+\n",
      "\n"
     ]
    }
   ],
   "source": [
    "### any==how\n",
    "df_pyspark.na.drop(how=\"all\").show()"
   ]
  },
  {
   "cell_type": "code",
   "execution_count": 11,
   "id": "95d15ef9",
   "metadata": {},
   "outputs": [
    {
     "name": "stdout",
     "output_type": "stream",
     "text": [
      "+--------+----+----------+------+\n",
      "|    Name| Age|Experience|Salary|\n",
      "+--------+----+----------+------+\n",
      "|   Krush|  19|        17| 88290|\n",
      "|   Kimar|  23|        18| 94845|\n",
      "|Dagrisab|  56|      null| 60268|\n",
      "|  Sanjay|  46|        15| 52381|\n",
      "|   Mintu|null|        17| 93836|\n",
      "|   Vijay|  17|        18|  null|\n",
      "|Amjatcan|null|        20| 63980|\n",
      "|  Rajish|  25|        20|  null|\n",
      "+--------+----+----------+------+\n",
      "\n"
     ]
    }
   ],
   "source": [
    "##threshold\n",
    "df_pyspark.na.drop(how=\"any\",thresh=3).show()"
   ]
  },
  {
   "cell_type": "code",
   "execution_count": 12,
   "id": "0c18aff7",
   "metadata": {},
   "outputs": [
    {
     "name": "stdout",
     "output_type": "stream",
     "text": [
      "+--------------+----+----------+------+\n",
      "|          Name| Age|Experience|Salary|\n",
      "+--------------+----+----------+------+\n",
      "|         Krush|  19|        17| 88290|\n",
      "|         Kimar|  23|        18| 94845|\n",
      "|Missing Values|  10|        16|  null|\n",
      "|      Dagrisab|  56|      null| 60268|\n",
      "|        Sanjay|  46|        15| 52381|\n",
      "|         Mintu|null|        17| 93836|\n",
      "|         Vijay|  17|        18|  null|\n",
      "|Missing Values|  32|      null| 71205|\n",
      "|      Amjatcan|null|        20| 63980|\n",
      "|        Rajish|  25|        20|  null|\n",
      "+--------------+----+----------+------+\n",
      "\n"
     ]
    }
   ],
   "source": [
    "### Filling the Missing Value\n",
    "df_pyspark.na.fill('Missing Values').show()"
   ]
  },
  {
   "cell_type": "code",
   "execution_count": 13,
   "id": "f39dee41",
   "metadata": {},
   "outputs": [
    {
     "name": "stdout",
     "output_type": "stream",
     "text": [
      "+--------+----+----------+------+\n",
      "|    Name| Age|Experience|Salary|\n",
      "+--------+----+----------+------+\n",
      "|   Krush|  19|        17| 88290|\n",
      "|   Kimar|  23|        18| 94845|\n",
      "|    null|  10|        16|  null|\n",
      "|  Sanjay|  46|        15| 52381|\n",
      "|   Mintu|null|        17| 93836|\n",
      "|   Vijay|  17|        18|  null|\n",
      "|Amjatcan|null|        20| 63980|\n",
      "|  Rajish|  25|        20|  null|\n",
      "+--------+----+----------+------+\n",
      "\n"
     ]
    }
   ],
   "source": [
    "## subset\n",
    "df_pyspark.na.drop(how=\"any\",subset=['Experience']).show()"
   ]
  },
  {
   "cell_type": "code",
   "execution_count": 15,
   "id": "1ee99d18",
   "metadata": {},
   "outputs": [
    {
     "name": "stdout",
     "output_type": "stream",
     "text": [
      "+--------+----+----------+------+\n",
      "|    Name| Age|Experience|Salary|\n",
      "+--------+----+----------+------+\n",
      "|   Krush|  19|        17| 88290|\n",
      "|   Kimar|  23|        18| 94845|\n",
      "|    null|  10|        16|  null|\n",
      "|Dagrisab|  56|      null| 60268|\n",
      "|  Sanjay|  46|        15| 52381|\n",
      "|   Mintu|null|        17| 93836|\n",
      "|   Vijay|  17|        18|  null|\n",
      "|    null|  32|      null| 71205|\n",
      "|Amjatcan|null|        20| 63980|\n",
      "|  Rajish|  25|        20|  null|\n",
      "+--------+----+----------+------+\n",
      "\n"
     ]
    }
   ],
   "source": [
    "### Filling the Missing Value\n",
    "df_pyspark.na.fill('Missing Values',['Age','Experience']).show()"
   ]
  },
  {
   "cell_type": "code",
   "execution_count": 17,
   "id": "b35f15fd",
   "metadata": {},
   "outputs": [
    {
     "data": {
      "text/plain": [
       "DataFrame[Name: string, Age: int, Experience: int, Salary: int]"
      ]
     },
     "execution_count": 17,
     "metadata": {},
     "output_type": "execute_result"
    }
   ],
   "source": [
    "df_pyspark"
   ]
  },
  {
   "cell_type": "code",
   "execution_count": 18,
   "id": "1bc647f5",
   "metadata": {},
   "outputs": [
    {
     "name": "stdout",
     "output_type": "stream",
     "text": [
      "+--------+----+----------+------+\n",
      "|    Name| Age|Experience|Salary|\n",
      "+--------+----+----------+------+\n",
      "|   Krush|  19|        17| 88290|\n",
      "|   Kimar|  23|        18| 94845|\n",
      "|    null|  10|        16|  null|\n",
      "|Dagrisab|  56|      null| 60268|\n",
      "|  Sanjay|  46|        15| 52381|\n",
      "|   Mintu|null|        17| 93836|\n",
      "|   Vijay|  17|        18|  null|\n",
      "|    null|  32|      null| 71205|\n",
      "|Amjatcan|null|        20| 63980|\n",
      "|  Rajish|  25|        20|  null|\n",
      "+--------+----+----------+------+\n",
      "\n"
     ]
    }
   ],
   "source": [
    "df_pyspark.show()"
   ]
  },
  {
   "cell_type": "code",
   "execution_count": 22,
   "id": "b52934a1",
   "metadata": {},
   "outputs": [],
   "source": [
    "from pyspark.ml.feature import Imputer\n",
    "\n",
    "imputer = Imputer(\n",
    "    inputCols=['Age', 'Experience', 'Salary'], \n",
    "    outputCols=[\"{}_imputed\".format(c) for c in ['age', 'Experience', 'Salary']]\n",
    "    ).setStrategy(\"mean\")"
   ]
  },
  {
   "cell_type": "code",
   "execution_count": 23,
   "id": "d1ec7bf2",
   "metadata": {},
   "outputs": [
    {
     "name": "stdout",
     "output_type": "stream",
     "text": [
      "+--------+----+----------+------+-----------+------------------+--------------+\n",
      "|    Name| Age|Experience|Salary|age_imputed|Experience_imputed|Salary_imputed|\n",
      "+--------+----+----------+------+-----------+------------------+--------------+\n",
      "|   Krush|  19|        17| 88290|         19|                17|         88290|\n",
      "|   Kimar|  23|        18| 94845|         23|                18|         94845|\n",
      "|    null|  10|        16|  null|         10|                16|         74972|\n",
      "|Dagrisab|  56|      null| 60268|         56|                17|         60268|\n",
      "|  Sanjay|  46|        15| 52381|         46|                15|         52381|\n",
      "|   Mintu|null|        17| 93836|         28|                17|         93836|\n",
      "|   Vijay|  17|        18|  null|         17|                18|         74972|\n",
      "|    null|  32|      null| 71205|         32|                17|         71205|\n",
      "|Amjatcan|null|        20| 63980|         28|                20|         63980|\n",
      "|  Rajish|  25|        20|  null|         25|                20|         74972|\n",
      "+--------+----+----------+------+-----------+------------------+--------------+\n",
      "\n"
     ]
    }
   ],
   "source": [
    "# Add imputation cols to df\n",
    "imputer.fit(df_pyspark).transform(df_pyspark).show()"
   ]
  },
  {
   "cell_type": "code",
   "execution_count": null,
   "id": "45c6e62a",
   "metadata": {},
   "outputs": [],
   "source": []
  },
  {
   "cell_type": "code",
   "execution_count": null,
   "id": "5b76c709",
   "metadata": {},
   "outputs": [],
   "source": []
  },
  {
   "cell_type": "code",
   "execution_count": null,
   "id": "e4d35349",
   "metadata": {},
   "outputs": [],
   "source": []
  },
  {
   "cell_type": "code",
   "execution_count": null,
   "id": "799f31c9",
   "metadata": {},
   "outputs": [],
   "source": []
  },
  {
   "cell_type": "code",
   "execution_count": null,
   "id": "4deda695",
   "metadata": {},
   "outputs": [],
   "source": []
  },
  {
   "cell_type": "code",
   "execution_count": null,
   "id": "84d640f3",
   "metadata": {},
   "outputs": [],
   "source": []
  },
  {
   "cell_type": "code",
   "execution_count": null,
   "id": "6bd50ac6",
   "metadata": {},
   "outputs": [],
   "source": []
  }
 ],
 "metadata": {
  "kernelspec": {
   "display_name": "Python 3 (ipykernel)",
   "language": "python",
   "name": "python3"
  },
  "language_info": {
   "codemirror_mode": {
    "name": "ipython",
    "version": 3
   },
   "file_extension": ".py",
   "mimetype": "text/x-python",
   "name": "python",
   "nbconvert_exporter": "python",
   "pygments_lexer": "ipython3",
   "version": "3.9.7"
  }
 },
 "nbformat": 4,
 "nbformat_minor": 5
}
